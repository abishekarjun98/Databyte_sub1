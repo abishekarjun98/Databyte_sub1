{
  "nbformat": 4,
  "nbformat_minor": 0,
  "metadata": {
    "colab": {
      "name": "Countries and Codes.ipynb",
      "provenance": [],
      "authorship_tag": "ABX9TyPEUz/gOiuG4cT+58a5e0Tc",
      "include_colab_link": true
    },
    "kernelspec": {
      "display_name": "Python 3",
      "name": "python3"
    }
  },
  "cells": [
    {
      "cell_type": "markdown",
      "metadata": {
        "id": "view-in-github",
        "colab_type": "text"
      },
      "source": [
        "<a href=\"https://colab.research.google.com/github/abishekarjun98/Databyte_sub1/blob/main/Countries_and_Codes.ipynb\" target=\"_parent\"><img src=\"https://colab.research.google.com/assets/colab-badge.svg\" alt=\"Open In Colab\"/></a>"
      ]
    },
    {
      "cell_type": "code",
      "metadata": {
        "id": "Xnfs3s7AwBJB"
      },
      "source": [
        "import numpy as np\r\n",
        "import pandas as pd\r\n"
      ],
      "execution_count": 1,
      "outputs": []
    },
    {
      "cell_type": "code",
      "metadata": {
        "id": "47c18iOtysuD"
      },
      "source": [
        "df=pd.read_csv(\"data_csv.csv\")\r\n"
      ],
      "execution_count": 2,
      "outputs": []
    },
    {
      "cell_type": "code",
      "metadata": {
        "id": "h7Kl_6GcgFxD"
      },
      "source": [
        "data=[] \r\n",
        "for column in df:\r\n",
        "  for elements in df[column]:\r\n",
        "    data.append(elements) #all elements both name and codes are appended in a list"
      ],
      "execution_count": 3,
      "outputs": []
    },
    {
      "cell_type": "code",
      "metadata": {
        "id": "dGBadaOPivtS"
      },
      "source": [
        "dict_size=int(len(data)/2) #to map the name with code, dictionary is made half of the list size"
      ],
      "execution_count": 4,
      "outputs": []
    },
    {
      "cell_type": "code",
      "metadata": {
        "id": "4ZvJvfBOh0Q_"
      },
      "source": [
        "new_dict={}\r\n",
        "for k in range(dict_size):\r\n",
        "  new_dict[data[k]]=data[k+249] #mapping is done and dict is created\r\n",
        "  "
      ],
      "execution_count": 5,
      "outputs": []
    },
    {
      "cell_type": "code",
      "metadata": {
        "id": "czBOj_a-Y9Zd"
      },
      "source": [
        "sorted_countries=sorted(new_dict.keys(), key=lambda x:x.lower()) #countries name is sorted "
      ],
      "execution_count": 6,
      "outputs": []
    },
    {
      "cell_type": "code",
      "metadata": {
        "id": "ici1hM_RZrjW"
      },
      "source": [
        "final_dict={}\r\n",
        "for country in sorted_countries:\r\n",
        "  for k in range(dict_size):\r\n",
        "    final_dict[country]=new_dict[country] #with the sorted list of countries a final dictionary with proper order is created"
      ],
      "execution_count": 7,
      "outputs": []
    },
    {
      "cell_type": "code",
      "metadata": {
        "id": "3TN_ek3RkDvj",
        "colab": {
          "base_uri": "https://localhost:8080/"
        },
        "outputId": "32a0281b-80fb-41f1-876e-4c63d73263f7"
      },
      "source": [
        "Start, End = input(\"Enter two Country Codes\").split()"
      ],
      "execution_count": 16,
      "outputs": [
        {
          "output_type": "stream",
          "text": [
            "Enter two Country CodesIN US\n"
          ],
          "name": "stdout"
        }
      ]
    },
    {
      "cell_type": "code",
      "metadata": {
        "id": "twEVCpe6l3fj"
      },
      "source": [
        "index=0\r\n",
        "for country in final_dict:\r\n",
        "  index+=1\r\n",
        "  if final_dict[country]==Start :\r\n",
        "   startpos=index\r\n",
        "  elif final_dict[country]==End :\r\n",
        "   endpos=index  # the end postions are found"
      ],
      "execution_count": 17,
      "outputs": []
    },
    {
      "cell_type": "code",
      "metadata": {
        "id": "ps6vbkYL0B6P"
      },
      "source": [
        "final_list_countries=[] #list which is to be displayed is created\r\n",
        "position=0\r\n",
        "for country in final_dict:\r\n",
        "  position+=1\r\n",
        "  if position>startpos and position<endpos :\r\n",
        "    final_list_countries.append(country)"
      ],
      "execution_count": 18,
      "outputs": []
    },
    {
      "cell_type": "code",
      "metadata": {
        "id": "j7rEidLVcghN",
        "colab": {
          "base_uri": "https://localhost:8080/"
        },
        "outputId": "59fab350-3eef-4256-cdc3-74aca8af02bb"
      },
      "source": [
        "final_list_countries"
      ],
      "execution_count": 19,
      "outputs": [
        {
          "output_type": "execute_result",
          "data": {
            "text/plain": [
              "['Indonesia',\n",
              " 'Iran, Islamic Republic of',\n",
              " 'Iraq',\n",
              " 'Ireland',\n",
              " 'Isle of Man',\n",
              " 'Israel',\n",
              " 'Italy',\n",
              " 'Jamaica',\n",
              " 'Japan',\n",
              " 'Jersey',\n",
              " 'Jordan',\n",
              " 'Kazakhstan',\n",
              " 'Kenya',\n",
              " 'Kiribati',\n",
              " \"Korea, Democratic People's Republic of\",\n",
              " 'Korea, Republic of',\n",
              " 'Kuwait',\n",
              " 'Kyrgyzstan',\n",
              " \"Lao People's Democratic Republic\",\n",
              " 'Latvia',\n",
              " 'Lebanon',\n",
              " 'Lesotho',\n",
              " 'Liberia',\n",
              " 'Libya',\n",
              " 'Liechtenstein',\n",
              " 'Lithuania',\n",
              " 'Luxembourg',\n",
              " 'Macao',\n",
              " 'Macedonia, the Former Yugoslav Republic of',\n",
              " 'Madagascar',\n",
              " 'Malawi',\n",
              " 'Malaysia',\n",
              " 'Maldives',\n",
              " 'Mali',\n",
              " 'Malta',\n",
              " 'Marshall Islands',\n",
              " 'Martinique',\n",
              " 'Mauritania',\n",
              " 'Mauritius',\n",
              " 'Mayotte',\n",
              " 'Mexico',\n",
              " 'Micronesia, Federated States of',\n",
              " 'Moldova, Republic of',\n",
              " 'Monaco',\n",
              " 'Mongolia',\n",
              " 'Montenegro',\n",
              " 'Montserrat',\n",
              " 'Morocco',\n",
              " 'Mozambique',\n",
              " 'Myanmar',\n",
              " 'Namibia',\n",
              " 'Nauru',\n",
              " 'Nepal',\n",
              " 'Netherlands',\n",
              " 'New Caledonia',\n",
              " 'New Zealand',\n",
              " 'Nicaragua',\n",
              " 'Niger',\n",
              " 'Nigeria',\n",
              " 'Niue',\n",
              " 'Norfolk Island',\n",
              " 'Northern Mariana Islands',\n",
              " 'Norway',\n",
              " 'Oman',\n",
              " 'Pakistan',\n",
              " 'Palau',\n",
              " 'Palestine, State of',\n",
              " 'Panama',\n",
              " 'Papua New Guinea',\n",
              " 'Paraguay',\n",
              " 'Peru',\n",
              " 'Philippines',\n",
              " 'Pitcairn',\n",
              " 'Poland',\n",
              " 'Portugal',\n",
              " 'Puerto Rico',\n",
              " 'Qatar',\n",
              " 'Romania',\n",
              " 'Russian Federation',\n",
              " 'Rwanda',\n",
              " 'Réunion',\n",
              " 'Saint Barthélemy',\n",
              " 'Saint Helena, Ascension and Tristan da Cunha',\n",
              " 'Saint Kitts and Nevis',\n",
              " 'Saint Lucia',\n",
              " 'Saint Martin (French part)',\n",
              " 'Saint Pierre and Miquelon',\n",
              " 'Saint Vincent and the Grenadines',\n",
              " 'Samoa',\n",
              " 'San Marino',\n",
              " 'Sao Tome and Principe',\n",
              " 'Saudi Arabia',\n",
              " 'Senegal',\n",
              " 'Serbia',\n",
              " 'Seychelles',\n",
              " 'Sierra Leone',\n",
              " 'Singapore',\n",
              " 'Sint Maarten (Dutch part)',\n",
              " 'Slovakia',\n",
              " 'Slovenia',\n",
              " 'Solomon Islands',\n",
              " 'Somalia',\n",
              " 'South Africa',\n",
              " 'South Georgia and the South Sandwich Islands',\n",
              " 'South Sudan',\n",
              " 'Spain',\n",
              " 'Sri Lanka',\n",
              " 'Sudan',\n",
              " 'Suriname',\n",
              " 'Svalbard and Jan Mayen',\n",
              " 'Swaziland',\n",
              " 'Sweden',\n",
              " 'Switzerland',\n",
              " 'Syrian Arab Republic',\n",
              " 'Taiwan, Province of China',\n",
              " 'Tajikistan',\n",
              " 'Tanzania, United Republic of',\n",
              " 'Thailand',\n",
              " 'Timor-Leste',\n",
              " 'Togo',\n",
              " 'Tokelau',\n",
              " 'Tonga',\n",
              " 'Trinidad and Tobago',\n",
              " 'Tunisia',\n",
              " 'Turkey',\n",
              " 'Turkmenistan',\n",
              " 'Turks and Caicos Islands',\n",
              " 'Tuvalu',\n",
              " 'Uganda',\n",
              " 'Ukraine',\n",
              " 'United Arab Emirates',\n",
              " 'United Kingdom']"
            ]
          },
          "metadata": {
            "tags": []
          },
          "execution_count": 19
        }
      ]
    }
  ]
}