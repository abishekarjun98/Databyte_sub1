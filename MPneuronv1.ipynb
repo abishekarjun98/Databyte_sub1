{
  "nbformat": 4,
  "nbformat_minor": 0,
  "metadata": {
    "colab": {
      "name": "MPneuronv1.ipynb",
      "provenance": [],
      "authorship_tag": "ABX9TyOFxiY7w21kSALM0Lqedh6T",
      "include_colab_link": true
    },
    "kernelspec": {
      "name": "python3",
      "display_name": "Python 3"
    }
  },
  "cells": [
    {
      "cell_type": "markdown",
      "metadata": {
        "id": "view-in-github",
        "colab_type": "text"
      },
      "source": [
        "<a href=\"https://colab.research.google.com/github/abishekarjun98/Databyte_sub1/blob/main/MPneuronv1.ipynb\" target=\"_parent\"><img src=\"https://colab.research.google.com/assets/colab-badge.svg\" alt=\"Open In Colab\"/></a>"
      ]
    },
    {
      "cell_type": "code",
      "metadata": {
        "id": "IZPHGoxvgdNh"
      },
      "source": [
        "class MPneuron:\r\n",
        "  w=[]\r\n",
        "  x=[]\r\n",
        "  threshold=0\r\n",
        "\r\n",
        "  def __init__(self): \r\n",
        "    self.w=[]\r\n",
        "    self.x=[]\r\n",
        "    for k in range(3):\r\n",
        "      self.w.append(1)\r\n",
        "      self.x.append(1)\r\n",
        "    self.threshold=3.5\r\n",
        "      \r\n",
        "  def MP_Neuron_Input(self,n,threshold):\r\n",
        "    self.w=[]\r\n",
        "    self.x=[]\r\n",
        "    for k in range(n):\r\n",
        "      wa=int(input())\r\n",
        "      self.w.append(wa)\r\n",
        "      xa=int(input())\r\n",
        "      self.x.append(xa)\r\n",
        "    self.threshold=threshold\r\n",
        "  \r\n",
        "  def MP_Neuron_Evaluate(self):\r\n",
        "    sum=0\r\n",
        "    for n in range(len(self.w)):\r\n",
        "      sum+=(self.w[n])*(self.x[n])\r\n",
        "    if sum < self.threshold:\r\n",
        "      print(0)\r\n",
        "    else:\r\n",
        "      print(1)\r\n",
        "\r\n"
      ],
      "execution_count": 23,
      "outputs": []
    },
    {
      "cell_type": "code",
      "metadata": {
        "id": "O3IjXXVgl0yr"
      },
      "source": [
        "L1N1=MPneuron()\r\n",
        "L1N2=MPneuron()\r\n",
        "L1N3=MPneuron()\r\n",
        "L2N1=MPneuron()"
      ],
      "execution_count": 29,
      "outputs": []
    },
    {
      "cell_type": "code",
      "metadata": {
        "colab": {
          "base_uri": "https://localhost:8080/"
        },
        "id": "z_h_xpgtCngz",
        "outputId": "b42dcd9d-ba5b-4c7c-df0f-7ab7cc376fa4"
      },
      "source": [
        "L1N1.MP_Neuron_Input(1,0)"
      ],
      "execution_count": 30,
      "outputs": [
        {
          "output_type": "stream",
          "text": [
            "-1\n",
            "1\n"
          ],
          "name": "stdout"
        }
      ]
    },
    {
      "cell_type": "markdown",
      "metadata": {
        "id": "pw4GZ7HCHXG3"
      },
      "source": [
        "1st neuron Input  x=1 w=-1"
      ]
    },
    {
      "cell_type": "code",
      "metadata": {
        "colab": {
          "base_uri": "https://localhost:8080/"
        },
        "id": "maiBQOzRD7Ao",
        "outputId": "b61a5feb-a397-4b30-fdca-e36a9619d4d3"
      },
      "source": [
        "L1N1.MP_Neuron_Evaluate() #output is 0 for 3rd neuron in 1st layer"
      ],
      "execution_count": 33,
      "outputs": [
        {
          "output_type": "stream",
          "text": [
            "0\n"
          ],
          "name": "stdout"
        }
      ]
    },
    {
      "cell_type": "code",
      "metadata": {
        "colab": {
          "base_uri": "https://localhost:8080/"
        },
        "id": "A8iNtlVsDnMC",
        "outputId": "923fc647-efba-4228-f5ec-6fa93029aca9"
      },
      "source": [
        "L1N2.MP_Neuron_Input(1,0)"
      ],
      "execution_count": 31,
      "outputs": [
        {
          "output_type": "stream",
          "text": [
            "-1\n",
            "1\n"
          ],
          "name": "stdout"
        }
      ]
    },
    {
      "cell_type": "markdown",
      "metadata": {
        "id": "eW-WSCgJHftH"
      },
      "source": [
        "2nd neuron Input x=1 w=-1"
      ]
    },
    {
      "cell_type": "code",
      "metadata": {
        "colab": {
          "base_uri": "https://localhost:8080/"
        },
        "id": "LxT3n2hmEAHM",
        "outputId": "3758d443-0835-4b3e-89d0-9f97cf7da081"
      },
      "source": [
        "L1N2.MP_Neuron_Evaluate()#output is 0 for 3rd neuron in 1st layer"
      ],
      "execution_count": 34,
      "outputs": [
        {
          "output_type": "stream",
          "text": [
            "0\n"
          ],
          "name": "stdout"
        }
      ]
    },
    {
      "cell_type": "code",
      "metadata": {
        "colab": {
          "base_uri": "https://localhost:8080/"
        },
        "id": "1hyqmuPiDtWn",
        "outputId": "cce4d4f4-1c8c-4ae9-83ab-e130197503a6"
      },
      "source": [
        "L1N3.MP_Neuron_Input(1,0) #"
      ],
      "execution_count": 32,
      "outputs": [
        {
          "output_type": "stream",
          "text": [
            "-1\n",
            "1\n"
          ],
          "name": "stdout"
        }
      ]
    },
    {
      "cell_type": "markdown",
      "metadata": {
        "id": "9dlKtEsaHkqK"
      },
      "source": [
        "3rd neuron Input x=1 w=-1"
      ]
    },
    {
      "cell_type": "code",
      "metadata": {
        "colab": {
          "base_uri": "https://localhost:8080/"
        },
        "id": "ir1rRgHNDv9l",
        "outputId": "2758f547-d901-4823-b628-b7d608738316"
      },
      "source": [
        "L1N3.MP_Neuron_Evaluate() #output is 0 for 3rd neuron in 1st layer"
      ],
      "execution_count": 35,
      "outputs": [
        {
          "output_type": "stream",
          "text": [
            "0\n"
          ],
          "name": "stdout"
        }
      ]
    },
    {
      "cell_type": "code",
      "metadata": {
        "colab": {
          "base_uri": "https://localhost:8080/"
        },
        "id": "A0tOAiuqDMvy",
        "outputId": "14f455f0-844f-409e-d614-fdbd1034b8e7"
      },
      "source": [
        "L2N1.MP_Neuron_Input(3,1) # output of the previous layer is given as input to the next  layer"
      ],
      "execution_count": 36,
      "outputs": [
        {
          "output_type": "stream",
          "text": [
            "1\n",
            "0\n",
            "1\n",
            "0\n",
            "1\n",
            "0\n"
          ],
          "name": "stdout"
        }
      ]
    },
    {
      "cell_type": "markdown",
      "metadata": {
        "id": "pXU7w72SH-2v"
      },
      "source": [
        "Input x=[0 0 0] w=[1 1 1 ]"
      ]
    },
    {
      "cell_type": "code",
      "metadata": {
        "colab": {
          "base_uri": "https://localhost:8080/"
        },
        "id": "oyN9YY2PEZw2",
        "outputId": "cd23f43f-5ad7-4058-e4d3-b740bfe22a3a"
      },
      "source": [
        "L2N1.MP_Neuron_Evaluate() #Output of the final Neuron is 0, when all the input values are given as 1"
      ],
      "execution_count": 40,
      "outputs": [
        {
          "output_type": "stream",
          "text": [
            "0\n"
          ],
          "name": "stdout"
        }
      ]
    }
  ]
}